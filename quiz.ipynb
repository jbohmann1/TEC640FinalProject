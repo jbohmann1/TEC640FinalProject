{
 "cells": [
  {
   "cell_type": "markdown",
   "metadata": {},
   "source": [
    "# Text Mining - Second Assignment\n",
    "\n",
    "For each question provide an answer in the designated area. Try to be brief and precise."
   ]
  },
  {
   "cell_type": "markdown",
   "metadata": {},
   "source": [
    "## Question 1\n",
    "\n",
    "A binary classifier produced the confusion matrix shown below. Calculate the precision in this case. What is the size of the corpus?\n",
    "\n",
    "![confusion-matrix 1](https://tsourakis.net/tec640/confusion-matrix1.png)"
   ]
  },
  {
   "attachments": {},
   "cell_type": "markdown",
   "metadata": {},
   "source": [
    "<p style=\"color:green;\"><b>Answer:<b><p> The precision is: 0.75. The size of the corpus is 10,115."
   ]
  },
  {
   "cell_type": "markdown",
   "metadata": {},
   "source": [
    "## Question 2\n",
    "\n",
    "The three models that are shown below (depicted with the red line) try to separate the data with labels __X__ and __O__ . Which one do you think generalizes<sup>*</sup> better (left/middle/right)? Explain your answer.\n",
    "\n",
    "![models](https://tsourakis.net/tec640/models.png)\n",
    "\n",
    "<sup>*</sup>Generalization is the ability of a model to classify correctly unseen data."
   ]
  },
  {
   "attachments": {},
   "cell_type": "markdown",
   "metadata": {},
   "source": [
    "<p style=\"color:green;\"><b>Answer:<b><p> The middle model generalizes the data the best because it would have the highest scores while not being prone to overfitting."
   ]
  },
  {
   "cell_type": "markdown",
   "metadata": {},
   "source": [
    "## Question 3\n",
    "\n",
    "Based on the images below, which one of the ROC curves produces AUC values greater than 0.5 (left/middle/right)? Explain your answer.\n",
    "\n",
    "![roc 1](https://tsourakis.net/tec640/roc1.png)"
   ]
  },
  {
   "attachments": {},
   "cell_type": "markdown",
   "metadata": {},
   "source": [
    "<p style=\"color:green;\"><b>Answer:<b><p>  The right curve produces an AUC value greater than 0.5. The middle one is the worst kind of ROC curve you can get and the left one never happens."
   ]
  },
  {
   "cell_type": "markdown",
   "metadata": {},
   "source": [
    "## Question 4\n",
    "\n",
    "The image below shows a special type for word representation. How is it called and what can we deduce from this image?\n",
    "\n",
    "![representation](https://tsourakis.net/tec640/representation.png)"
   ]
  },
  {
   "attachments": {},
   "cell_type": "markdown",
   "metadata": {},
   "source": [
    "<p style=\"color:green;\"><b>Answer:<b><p> This is called Word Embeddings. We can deduce from this image the vectors of countries and their capital. "
   ]
  },
  {
   "cell_type": "markdown",
   "metadata": {},
   "source": [
    "## Question 5\n",
    "\n",
    "Among the three options below, what is the best option on how to split our data (left/middle/right)? Elaborate on your answer.\n",
    "\n",
    "![split](https://tsourakis.net/tec640/split.png)\n"
   ]
  },
  {
   "attachments": {},
   "cell_type": "markdown",
   "metadata": {},
   "source": [
    "<p style=\"color:green;\"><b>Answer:<b><p> The left option is the best option to split the data. That is because we want to train the model on more data and then score it based on the rest of the data."
   ]
  },
  {
   "cell_type": "markdown",
   "metadata": {},
   "source": [
    "## Question 6\n",
    "\n",
    "The following images show the confusion matrices for two classification models. Which model works better and why (left or right)?\n",
    "\n",
    "![confusion-matrix 2](https://tsourakis.net/tec640/confusion-matrix2.png)\n",
    "![confusion-matrix 3](https://tsourakis.net/tec640/confusion-matrix3.png)"
   ]
  },
  {
   "attachments": {},
   "cell_type": "markdown",
   "metadata": {},
   "source": [
    "<p style=\"color:green;\"><b>Answer:<b><p> The right one works better because its features are less correlated with each other than in the left confusion matrix."
   ]
  },
  {
   "cell_type": "markdown",
   "metadata": {},
   "source": [
    "## Question 7\n",
    "\n",
    "Based on the confusion matrix below, what can you say about the relation between labels __D__ and __C__?\n",
    "\n",
    "![confusion-matrix 2](https://tsourakis.net/tec640/confusion-matrix2.png)"
   ]
  },
  {
   "attachments": {},
   "cell_type": "markdown",
   "metadata": {},
   "source": [
    "<p style=\"color:green;\"><b>Answer:<b><p> The two labels are not correlated whatsoever."
   ]
  },
  {
   "cell_type": "markdown",
   "metadata": {},
   "source": [
    "## Question 8\n",
    "\n",
    "After performing Exploratory Data Analysis (EDA) on our data we get the pie chart shown below. It represents the sentiment found in the texts of the corpus.\n",
    "Based on the chart, can you identify any issue, and if yes, how can it be resolved?\n",
    "\n",
    "![pie-chart](https://tsourakis.net/tec640/pie-chart.png)"
   ]
  },
  {
   "attachments": {},
   "cell_type": "markdown",
   "metadata": {},
   "source": [
    "<p style=\"color:green;\"><b>Answer:<b><p> Yes there are issues. Many of the labels are similar to each other. For example the labels: \"thumbs up\", \"empowered\", \"stimulated/excited\", \"happy/joyful\" are all very similar. The same goes for the opposite sentiment. Besides \"calm/board\" all the other sentiments can be grouped to reduce complexity."
   ]
  },
  {
   "cell_type": "markdown",
   "metadata": {},
   "source": [
    "## Question 9\n",
    "\n",
    "Suppose that you create two classification models that can predict cancer based on patients' data. Which metric is more appropriate in order to compare the two models? Precision or recall? Explain your answer.\n",
    "\n",
    "__Hint__: Think of the type of errors used by each metric and which error should be avoided for cancer detection."
   ]
  },
  {
   "attachments": {},
   "cell_type": "markdown",
   "metadata": {},
   "source": [
    "<p style=\"color:green;\"><b>Answer:<b><p> For cancer data modeling, anything that doesn't account for false-negatives is a crime. Therefore recall is a better measure than precision."
   ]
  },
  {
   "cell_type": "markdown",
   "metadata": {},
   "source": [
    "## Question 10\n",
    "\n",
    "Using the KNN algorithm what is the label of the sample with the question mark when k=9?\n",
    "\n",
    "![knn](https://tsourakis.net/tec640/knn.png)"
   ]
  },
  {
   "attachments": {},
   "cell_type": "markdown",
   "metadata": {},
   "source": [
    "<p style=\"color:green;\"><b>Answer:<b><p> It is the category of the nearest neighbours. There are more donuts than x' there its a donut."
   ]
  },
  {
   "attachments": {},
   "cell_type": "markdown",
   "metadata": {},
   "source": [
    "## Question 11\n",
    "\n",
    "Based on the ROC curves below which classification algorithms combination works better? Explain your answer.\n",
    "\n",
    "![roc 2](https://tsourakis.net/tec640/roc2.png)"
   ]
  },
  {
   "attachments": {},
   "cell_type": "markdown",
   "metadata": {},
   "source": [
    "<p style=\"color:green;\"><b>Answer:<b><p> The ROC curve of the SVM by itself works the best, but if an algorithm combination is needed then the SVM + Naives Bayes ROC is the solution. It has the highest AUC out of all the other ones besides just the SVM ROC."
   ]
  },
  {
   "cell_type": "markdown",
   "metadata": {},
   "source": [
    "## Question 12\n",
    "\n",
    "How do we call the type of learning where we use labeled examples during training (see the image below)?\n",
    "\n",
    "![training](https://tsourakis.net/tec640/training.png)"
   ]
  },
  {
   "attachments": {},
   "cell_type": "markdown",
   "metadata": {},
   "source": [
    "<p style=\"color:green;\"><b>Answer:<b><p> Supervised Learning"
   ]
  },
  {
   "cell_type": "markdown",
   "metadata": {},
   "source": [
    "## Question 13\n",
    "\n",
    "In the code shown below, how do we call _kernel_, _C_ and _gamma_?\n",
    "\n",
    "``from sklearn import svm``\n",
    "\n",
    "``svm_classifier = svm.SVC(kernel=\"rbf\", C=1.0, gamma=1.0)``"
   ]
  },
  {
   "attachments": {},
   "cell_type": "markdown",
   "metadata": {},
   "source": [
    "<p style=\"color:green;\"><b>Answer:<b><p> Hyperparameters"
   ]
  },
  {
   "cell_type": "markdown",
   "metadata": {},
   "source": [
    "## Question 14\n",
    "\n",
    "Based on the figure below, how do we call the transformation of the words in the second column to the words in the third one?\n",
    "\n",
    "![words](https://tsourakis.net/tec640/words.png)"
   ]
  },
  {
   "attachments": {},
   "cell_type": "markdown",
   "metadata": {},
   "source": [
    "<p style=\"color:green;\"><b>Answer:<b><p> Lemmatization"
   ]
  },
  {
   "attachments": {},
   "cell_type": "markdown",
   "metadata": {},
   "source": [
    "## Question 15\n",
    "\n",
    "You use a dataset with 10,000 labeled examples to train a classification algorithm. Then, during the inference phase, you use the same examples to calculate the performance of the generated model. The latter gives you 99% accuracy. Can you know launch your model in the production system? Explain your answer.\n"
   ]
  },
  {
   "attachments": {},
   "cell_type": "markdown",
   "metadata": {},
   "source": [
    "<p style=\"color:green;\"><b>Answer:<b><p> No, because it was tested using data it already knew. Without explicitly stating that this model was tested on that one cannot launch the model and expect that kind of accuracy on unseen data."
   ]
  },
  {
   "cell_type": "markdown",
   "metadata": {},
   "source": [
    "## Question 16\n",
    "\n",
    "Consider the vectors shown in the image below _A=(4, 4, 4)_, _B=(1, 7, 5)_ and _C=(-5, 5, 1)_. Which is the method that can tell us which pair of vectors is more similar?\n",
    "\n",
    "![vectors](https://tsourakis.net/tec640/vectors.png)"
   ]
  },
  {
   "attachments": {},
   "cell_type": "markdown",
   "metadata": {},
   "source": [
    "<p style=\"color:green;\"><b>Answer:<b><p> Principal Component Analysis"
   ]
  },
  {
   "cell_type": "markdown",
   "metadata": {},
   "source": [
    "## Question 17\n",
    "\n",
    "How can we create plots like the one shown in the figure below in Python and how are they called?\n",
    "\n",
    "![nlp](https://tsourakis.net/tec640/nlp.png)"
   ]
  },
  {
   "attachments": {},
   "cell_type": "markdown",
   "metadata": {},
   "source": [
    "<p style=\"color:green;\"><b>Answer:<b><p> This is called a word cloud. It is made by using a corpus of text and counting amount of times each word is used, representing the more one word is used by giving it more size in the cloud. To avoid having words like \"the\" be the most counted, it is recommended to remove those kind of \"stop words\"."
   ]
  },
  {
   "cell_type": "markdown",
   "metadata": {},
   "source": [
    "## Question 18\n",
    "\n",
    "\n",
    "You are managing a team of data scientists that produced the following table after testing various machine learning algorithms.\n",
    "It is your job to decide which algorithm to use for the problem under study. Which one would you choose and why?\n",
    "\n",
    "![results](https://tsourakis.net/tec640/results.png)"
   ]
  },
  {
   "attachments": {},
   "cell_type": "markdown",
   "metadata": {},
   "source": [
    "<p style=\"color:green;\"><b>Answer:<b><p> While there are mutliple models with similar scores, ultimately I would chose the C4.5 because it is the easiest to interpret out of the other models."
   ]
  },
  {
   "cell_type": "markdown",
   "metadata": {},
   "source": [
    "## Question 19\n",
    "\n",
    "Suppose that your machine learning problem consists of a large set of features with similar characteristics. What is the technique to identify and decrease the number of features for this specific problem? Name one example of this technique."
   ]
  },
  {
   "attachments": {},
   "cell_type": "markdown",
   "metadata": {},
   "source": [
    "<p style=\"color:green;\"><b>Answer:<b><p> Feature Selection. For example in regression when you look at a confusion matrix and see two features with high colinearity you will omit one of them through the process called Feature Selection."
   ]
  },
  {
   "cell_type": "markdown",
   "metadata": {},
   "source": [
    "## Question 20\n",
    "\n",
    "In most machine learning problems, you need to create your own dataset. For example, suppose you want to train a model to identify where to add extra armor to a fighting plane. After each battle, you examine all the aircraft that managed to return back to the base despite being damaged. The red dots in the image below represent the hits you have counted from those aircraft. Try to think where you should add the extra armor by looking at the figure. Can you identify the problem of creating your dataset like this?\n",
    "\n",
    "\n",
    "![plane](https://tsourakis.net/tec640/plane.png)\n"
   ]
  },
  {
   "attachments": {},
   "cell_type": "markdown",
   "metadata": {},
   "source": [
    "<p style=\"color:green;\"><b>Answer:<b><p> While it is easy to identify clusters of where more armor is needed to defend the aircraft, there may be other problems that would arise. One example I can think of is that adding armor to those points increases the weight of the aircraft and that may reduce flying capabilities. This is not enough to create a dataset. There need to be more features."
   ]
  },
  {
   "cell_type": "markdown",
   "metadata": {},
   "source": []
  }
 ],
 "metadata": {
  "kernelspec": {
   "display_name": "Python 3",
   "language": "python",
   "name": "python3"
  },
  "language_info": {
   "codemirror_mode": {
    "name": "ipython",
    "version": 3
   },
   "file_extension": ".py",
   "mimetype": "text/x-python",
   "name": "python",
   "nbconvert_exporter": "python",
   "pygments_lexer": "ipython3",
   "version": "3.10.10"
  },
  "orig_nbformat": 2,
  "vscode": {
   "interpreter": {
    "hash": "dc4bc857eb09156933ae58d098bc4655b583e93348c6847b7157f8546ed60ca3"
   }
  }
 },
 "nbformat": 4,
 "nbformat_minor": 2
}
